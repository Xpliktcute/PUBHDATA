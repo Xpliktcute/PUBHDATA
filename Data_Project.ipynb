{
  "nbformat": 4,
  "nbformat_minor": 0,
  "metadata": {
    "colab": {
      "provenance": [],
      "authorship_tag": "ABX9TyMQxlHGBSy7pgFlMlsVVrtO",
      "include_colab_link": true
    },
    "kernelspec": {
      "name": "ir",
      "display_name": "R"
    },
    "language_info": {
      "name": "R"
    }
  },
  "cells": [
    {
      "cell_type": "markdown",
      "metadata": {
        "id": "view-in-github",
        "colab_type": "text"
      },
      "source": [
        "<a href=\"https://colab.research.google.com/github/Xpliktcute/PUBHDATA/blob/main/Data_Project.ipynb\" target=\"_parent\"><img src=\"https://colab.research.google.com/assets/colab-badge.svg\" alt=\"Open In Colab\"/></a>"
      ]
    },
    {
      "cell_type": "code",
      "source": [
        "# Install the readr package if you don't have it already\n",
        "if (!require(\"readr\")) install.packages(\"readr\")\n",
        "\n",
        "# Load the readr package\n",
        "library(readr)\n",
        "\n",
        "# Load the data\n",
        "mydata <- read.csv(\"LGBTData.csv\")\n",
        "\n",
        "# Check the class of the object\n",
        "class(mydata)\n",
        "\n",
        "# View the first few rows\n",
        "head(mydata)"
      ],
      "metadata": {
        "colab": {
          "base_uri": "https://localhost:8080/",
          "height": 324
        },
        "id": "ksXj9_xkAbhU",
        "outputId": "41e992f0-a152-45e0-d4d7-3570ea528b5c"
      },
      "execution_count": null,
      "outputs": [
        {
          "output_type": "display_data",
          "data": {
            "text/html": [
              "'data.frame'"
            ],
            "text/markdown": "'data.frame'",
            "text/latex": "'data.frame'",
            "text/plain": [
              "[1] \"data.frame\""
            ]
          },
          "metadata": {}
        },
        {
          "output_type": "display_data",
          "data": {
            "text/html": [
              "<table class=\"dataframe\">\n",
              "<caption>A data.frame: 6 × 117</caption>\n",
              "<thead>\n",
              "\t<tr><th></th><th scope=col>ID</th><th scope=col>INTAKET</th><th scope=col>ZIPCODE</th><th scope=col>INSURANC</th><th scope=col>FEE</th><th scope=col>GENDER</th><th scope=col>RACE</th><th scope=col>AGE</th><th scope=col>SEXORIEN</th><th scope=col>STATEGRANT</th><th scope=col>⋯</th><th scope=col>AXISIII3</th><th scope=col>AXISIII4</th><th scope=col>AXISIV1</th><th scope=col>AXISIV2</th><th scope=col>AXISIV3</th><th scope=col>AXISV</th><th scope=col>TXPLAN1</th><th scope=col>TXPLAN2</th><th scope=col>TXPLAN3</th><th scope=col>TXPLAN4</th></tr>\n",
              "\t<tr><th></th><th scope=col>&lt;int&gt;</th><th scope=col>&lt;int&gt;</th><th scope=col>&lt;int&gt;</th><th scope=col>&lt;int&gt;</th><th scope=col>&lt;int&gt;</th><th scope=col>&lt;int&gt;</th><th scope=col>&lt;int&gt;</th><th scope=col>&lt;int&gt;</th><th scope=col>&lt;int&gt;</th><th scope=col>&lt;int&gt;</th><th scope=col>⋯</th><th scope=col>&lt;int&gt;</th><th scope=col>&lt;int&gt;</th><th scope=col>&lt;int&gt;</th><th scope=col>&lt;int&gt;</th><th scope=col>&lt;int&gt;</th><th scope=col>&lt;int&gt;</th><th scope=col>&lt;int&gt;</th><th scope=col>&lt;int&gt;</th><th scope=col>&lt;int&gt;</th><th scope=col>&lt;int&gt;</th></tr>\n",
              "</thead>\n",
              "<tbody>\n",
              "\t<tr><th scope=row>1</th><td>131</td><td> 1</td><td>21</td><td>1</td><td>  0</td><td>1</td><td>1</td><td>41</td><td>1</td><td>  1</td><td>⋯</td><td>1</td><td>1</td><td>11</td><td> 1</td><td>1</td><td>68</td><td>999</td><td>888</td><td>888</td><td>888</td></tr>\n",
              "\t<tr><th scope=row>2</th><td>221</td><td> 5</td><td>38</td><td>1</td><td> 80</td><td>1</td><td>1</td><td>26</td><td>1</td><td>  0</td><td>⋯</td><td>1</td><td>1</td><td> 6</td><td>14</td><td>1</td><td>50</td><td>999</td><td>888</td><td>888</td><td>888</td></tr>\n",
              "\t<tr><th scope=row>3</th><td>231</td><td> 7</td><td>11</td><td>1</td><td>  0</td><td>1</td><td>1</td><td>34</td><td>1</td><td>  0</td><td>⋯</td><td>1</td><td>1</td><td> 5</td><td> 1</td><td>1</td><td>65</td><td> 19</td><td>888</td><td>888</td><td>888</td></tr>\n",
              "\t<tr><th scope=row>4</th><td>135</td><td>11</td><td>57</td><td>1</td><td>130</td><td>1</td><td>1</td><td>35</td><td>1</td><td>  0</td><td>⋯</td><td>1</td><td>1</td><td> 1</td><td> 1</td><td>1</td><td>80</td><td> 16</td><td>888</td><td>888</td><td>888</td></tr>\n",
              "\t<tr><th scope=row>5</th><td>111</td><td> 3</td><td>42</td><td>1</td><td> 80</td><td>1</td><td>1</td><td>28</td><td>1</td><td>999</td><td>⋯</td><td>1</td><td>1</td><td> 4</td><td> 1</td><td>1</td><td>51</td><td> 12</td><td>888</td><td>888</td><td>888</td></tr>\n",
              "\t<tr><th scope=row>6</th><td>142</td><td> 2</td><td>25</td><td>1</td><td> 80</td><td>1</td><td>1</td><td>31</td><td>1</td><td>  1</td><td>⋯</td><td>1</td><td>1</td><td>15</td><td> 1</td><td>1</td><td>53</td><td> 12</td><td>888</td><td>888</td><td>888</td></tr>\n",
              "</tbody>\n",
              "</table>\n"
            ],
            "text/markdown": "\nA data.frame: 6 × 117\n\n| <!--/--> | ID &lt;int&gt; | INTAKET &lt;int&gt; | ZIPCODE &lt;int&gt; | INSURANC &lt;int&gt; | FEE &lt;int&gt; | GENDER &lt;int&gt; | RACE &lt;int&gt; | AGE &lt;int&gt; | SEXORIEN &lt;int&gt; | STATEGRANT &lt;int&gt; | ⋯ ⋯ | AXISIII3 &lt;int&gt; | AXISIII4 &lt;int&gt; | AXISIV1 &lt;int&gt; | AXISIV2 &lt;int&gt; | AXISIV3 &lt;int&gt; | AXISV &lt;int&gt; | TXPLAN1 &lt;int&gt; | TXPLAN2 &lt;int&gt; | TXPLAN3 &lt;int&gt; | TXPLAN4 &lt;int&gt; |\n|---|---|---|---|---|---|---|---|---|---|---|---|---|---|---|---|---|---|---|---|---|---|\n| 1 | 131 |  1 | 21 | 1 |   0 | 1 | 1 | 41 | 1 |   1 | ⋯ | 1 | 1 | 11 |  1 | 1 | 68 | 999 | 888 | 888 | 888 |\n| 2 | 221 |  5 | 38 | 1 |  80 | 1 | 1 | 26 | 1 |   0 | ⋯ | 1 | 1 |  6 | 14 | 1 | 50 | 999 | 888 | 888 | 888 |\n| 3 | 231 |  7 | 11 | 1 |   0 | 1 | 1 | 34 | 1 |   0 | ⋯ | 1 | 1 |  5 |  1 | 1 | 65 |  19 | 888 | 888 | 888 |\n| 4 | 135 | 11 | 57 | 1 | 130 | 1 | 1 | 35 | 1 |   0 | ⋯ | 1 | 1 |  1 |  1 | 1 | 80 |  16 | 888 | 888 | 888 |\n| 5 | 111 |  3 | 42 | 1 |  80 | 1 | 1 | 28 | 1 | 999 | ⋯ | 1 | 1 |  4 |  1 | 1 | 51 |  12 | 888 | 888 | 888 |\n| 6 | 142 |  2 | 25 | 1 |  80 | 1 | 1 | 31 | 1 |   1 | ⋯ | 1 | 1 | 15 |  1 | 1 | 53 |  12 | 888 | 888 | 888 |\n\n",
            "text/latex": "A data.frame: 6 × 117\n\\begin{tabular}{r|lllllllllllllllllllll}\n  & ID & INTAKET & ZIPCODE & INSURANC & FEE & GENDER & RACE & AGE & SEXORIEN & STATEGRANT & ⋯ & AXISIII3 & AXISIII4 & AXISIV1 & AXISIV2 & AXISIV3 & AXISV & TXPLAN1 & TXPLAN2 & TXPLAN3 & TXPLAN4\\\\\n  & <int> & <int> & <int> & <int> & <int> & <int> & <int> & <int> & <int> & <int> & ⋯ & <int> & <int> & <int> & <int> & <int> & <int> & <int> & <int> & <int> & <int>\\\\\n\\hline\n\t1 & 131 &  1 & 21 & 1 &   0 & 1 & 1 & 41 & 1 &   1 & ⋯ & 1 & 1 & 11 &  1 & 1 & 68 & 999 & 888 & 888 & 888\\\\\n\t2 & 221 &  5 & 38 & 1 &  80 & 1 & 1 & 26 & 1 &   0 & ⋯ & 1 & 1 &  6 & 14 & 1 & 50 & 999 & 888 & 888 & 888\\\\\n\t3 & 231 &  7 & 11 & 1 &   0 & 1 & 1 & 34 & 1 &   0 & ⋯ & 1 & 1 &  5 &  1 & 1 & 65 &  19 & 888 & 888 & 888\\\\\n\t4 & 135 & 11 & 57 & 1 & 130 & 1 & 1 & 35 & 1 &   0 & ⋯ & 1 & 1 &  1 &  1 & 1 & 80 &  16 & 888 & 888 & 888\\\\\n\t5 & 111 &  3 & 42 & 1 &  80 & 1 & 1 & 28 & 1 & 999 & ⋯ & 1 & 1 &  4 &  1 & 1 & 51 &  12 & 888 & 888 & 888\\\\\n\t6 & 142 &  2 & 25 & 1 &  80 & 1 & 1 & 31 & 1 &   1 & ⋯ & 1 & 1 & 15 &  1 & 1 & 53 &  12 & 888 & 888 & 888\\\\\n\\end{tabular}\n",
            "text/plain": [
              "  ID  INTAKET ZIPCODE INSURANC FEE GENDER RACE AGE SEXORIEN STATEGRANT ⋯\n",
              "1 131  1      21      1          0 1      1    41  1          1        ⋯\n",
              "2 221  5      38      1         80 1      1    26  1          0        ⋯\n",
              "3 231  7      11      1          0 1      1    34  1          0        ⋯\n",
              "4 135 11      57      1        130 1      1    35  1          0        ⋯\n",
              "5 111  3      42      1         80 1      1    28  1        999        ⋯\n",
              "6 142  2      25      1         80 1      1    31  1          1        ⋯\n",
              "  AXISIII3 AXISIII4 AXISIV1 AXISIV2 AXISIV3 AXISV TXPLAN1 TXPLAN2 TXPLAN3\n",
              "1 1        1        11       1      1       68    999     888     888    \n",
              "2 1        1         6      14      1       50    999     888     888    \n",
              "3 1        1         5       1      1       65     19     888     888    \n",
              "4 1        1         1       1      1       80     16     888     888    \n",
              "5 1        1         4       1      1       51     12     888     888    \n",
              "6 1        1        15       1      1       53     12     888     888    \n",
              "  TXPLAN4\n",
              "1 888    \n",
              "2 888    \n",
              "3 888    \n",
              "4 888    \n",
              "5 888    \n",
              "6 888    "
            ]
          },
          "metadata": {}
        }
      ]
    },
    {
      "cell_type": "code",
      "source": [
        "# Load the data\n",
        "mydata <- read.csv(\"LGBTData.csv\")\n",
        "\n",
        "# Check the structure of the data\n",
        "str(mydata)\n",
        "\n",
        "# Replace common missing value codes with NA (based on codebook)\n",
        "mydata[mydata == 999] <- NA\n",
        "mydata[mydata == 888] <- NA\n",
        "\n",
        "# Convert categorical variables to factors (examples from codebook)\n",
        "mydata$SEXORIEN <- factor(mydata$SEXORIEN, levels = c(1, 3), labels = c(\"Gay\", \"Bisexual\"))\n",
        "mydata$HIVSTAT <- factor(mydata$HIVSTAT, levels = c(0, 1, 2), labels = c(\"Negative\", \"Positive\", \"Unknown\"))\n",
        "\n",
        "# Summary statistics\n",
        "summary(mydata)\n",
        "\n",
        "# Example: Frequency table for presenting problem 1 (PROB1)\n",
        "table(mydata$PROB1, useNA = \"ifany\")"
      ],
      "metadata": {
        "colab": {
          "base_uri": "https://localhost:8080/",
          "height": 1000
        },
        "id": "3pG0DhRYGseJ",
        "outputId": "6565a58a-26a7-4064-e801-ca504cac3ec0"
      },
      "execution_count": null,
      "outputs": [
        {
          "output_type": "stream",
          "name": "stdout",
          "text": [
            "'data.frame':\t148 obs. of  117 variables:\n",
            " $ ID         : int  131 221 231 135 111 142 202 102 172 128 ...\n",
            " $ INTAKET    : int  1 5 7 11 3 2 11 8 12 16 ...\n",
            " $ ZIPCODE    : int  21 38 11 57 42 25 3 51 51 25 ...\n",
            " $ INSURANC   : int  1 1 1 1 1 1 1 1 0 1 ...\n",
            " $ FEE        : int  0 80 0 130 80 80 150 165 80 80 ...\n",
            " $ GENDER     : int  1 1 1 1 1 1 1 1 1 1 ...\n",
            " $ RACE       : int  1 1 1 1 1 1 1 1 5 1 ...\n",
            " $ AGE        : int  41 26 34 35 28 31 43 47 55 31 ...\n",
            " $ SEXORIEN   : int  1 1 1 1 1 1 1 1 1 1 ...\n",
            " $ STATEGRANT : int  1 0 0 0 999 1 0 0 0 0 ...\n",
            " $ LIVEWITH   : int  1 999 999 2 999 999 999 2 999 3 ...\n",
            " $ RELATION   : int  4 999 999 1 1 1 1 1 999 4 ...\n",
            " $ RELALANG   : int  999 888 888 999 999 999 999 999 888 999 ...\n",
            " $ CHILDREN   : int  0 0 999 0 0 0 0 1 999 0 ...\n",
            " $ UNDER18    : int  888 888 888 888 888 888 888 2 888 888 ...\n",
            " $ EMPLOY     : int  0 0 1 1 1 1 1 1 1 1 ...\n",
            " $ PROB1      : int  1 1 2 20 4 4 4 999 1 1 ...\n",
            " $ PROB2      : int  888 2 35 888 888 888 888 888 4 13 ...\n",
            " $ PROB3      : int  888 15 44 888 888 888 888 888 13 888 ...\n",
            " $ PROB4      : int  888 23 888 888 888 888 888 888 46 888 ...\n",
            " $ DRUGEVER   : int  1 0 0 0 0 1 0 0 0 0 ...\n",
            " $ DRUGAGE    : int  10 888 888 888 888 11 888 888 888 888 ...\n",
            " $ DRUG1      : int  1 888 888 888 888 2 888 888 888 888 ...\n",
            " $ DRUG2      : int  888 888 888 888 888 1 888 888 888 888 ...\n",
            " $ DRUG3      : int  888 888 888 888 888 888 888 888 888 888 ...\n",
            " $ DRUG4      : int  888 888 888 888 888 888 888 888 888 888 ...\n",
            " $ DRUG5      : int  888 888 888 888 888 888 888 888 888 888 ...\n",
            " $ PHYABUSE   : int  1 0 0 0 1 1 0 0 0 0 ...\n",
            " $ PHYWHOM    : int  5 888 888 888 1 16 888 888 888 888 ...\n",
            " $ SEXABUSE   : int  0 0 0 1 0 1 0 0 0 0 ...\n",
            " $ SEXWHOM    : int  888 888 888 7 888 17 888 888 888 888 ...\n",
            " $ EMOABUSE   : int  0 0 0 1 1 1 0 1 0 0 ...\n",
            " $ EMOWHOM    : int  888 888 888 2 1 16 888 1 888 888 ...\n",
            " $ CURPHYS    : int  0 0 0 0 0 0 0 0 0 0 ...\n",
            " $ CURSEX     : int  0 0 0 0 0 0 0 0 0 0 ...\n",
            " $ AGELGBT    : int  1 20 13 16 999 1 22 999 999 14 ...\n",
            " $ MED1       : int  888 888 888 1 888 888 888 7 888 1 ...\n",
            " $ MED1SPECIFY: chr  \"Not applicable\" \"Not applicable\" \"Not applicable\" \"Not applicable\" ...\n",
            " $ MED2       : int  888 888 888 8 888 888 888 888 888 888 ...\n",
            " $ MED2SPECIFY: chr  \"Not applicable\" \"Not applicable\" \"Not applicable\" \"Not applicable\" ...\n",
            " $ MED3       : int  888 888 888 888 888 888 888 888 888 888 ...\n",
            " $ MED3SPECIFY: chr  \"Not applicable\" \"Not applicable\" \"Not applicable\" \"Not applicable\" ...\n",
            " $ MED4       : int  888 888 888 888 888 888 888 888 888 888 ...\n",
            " $ MED4SPECIFY: chr  \"Not applicable\" \"Not applicable\" \"Not applicable\" \"Not applicable\" ...\n",
            " $ MED5       : int  888 888 888 888 888 888 888 888 888 888 ...\n",
            " $ MED5SPECIFY: chr  \"Not applicable\" \"Not applicable\" \"Not applicable\" \"Not applicable\" ...\n",
            " $ MEDOTHER   : chr  \"Not applicable\" \"Not applicable\" \"Not applicable\" \"Not applicable\" ...\n",
            " $ MEDADHER   : int  2 2 2 2 2 2 2 2 2 2 ...\n",
            " $ HIVSTAT    : int  0 2 2 0 0 1 0 0 0 0 ...\n",
            " $ DATEDX     : chr  \"8-Aug-88\" \"9-Sep-99\" \"9-Sep-99\" \"8-Aug-88\" ...\n",
            " $ SENSE1     : int  888 888 888 888 888 1 888 888 888 888 ...\n",
            " $ SENSE2     : int  888 888 888 888 888 999 888 888 888 888 ...\n",
            " $ CD4        : int  -8 -8 -8 -8 -8 -8 -8 -8 -8 -8 ...\n",
            " $ VIRAL      : num  -8 -8 -8 -8 -8 -8 -8 -8 -8 -8 ...\n",
            " $ CD4DATE    : chr  \"8-Aug-88\" \"8-Aug-88\" \"8-Aug-88\" \"8-Aug-88\" ...\n",
            " $ PREVMH     : int  0 1 1 1 1 1 0 1 1 1 ...\n",
            " $ IMPATIEN   : int  0 0 0 0 0 1 0 0 1 0 ...\n",
            " $ OUTPATIE   : int  0 1 1 1 1 1 0 1 1 1 ...\n",
            " $ DEP        : int  1 3 0 1 1 3 0 2 2 2 ...\n",
            " $ HYPER      : int  0 0 0 0 0 1 0 0 0 0 ...\n",
            " $ LOENERG    : int  0 2 0 0 0 1 0 0 2 1 ...\n",
            " $ TRAUVIC    : int  1 0 0 0 0 3 0 0 0 0 ...\n",
            " $ GRIEF      : int  0 2 0 0 0 1 3 0 2 0 ...\n",
            " $ TRAUPERP   : int  0 0 0 1 0 0 0 0 0 0 ...\n",
            " $ HOPELESS   : int  0 0 0 0 0 2 0 0 1 1 ...\n",
            " $ THOUGHT    : int  0 0 0 0 0 0 0 0 0 0 ...\n",
            " $ DELUSION   : int  0 0 0 0 0 0 0 0 0 0 ...\n",
            " $ WORTHLES   : int  0 2 0 0 0 2 0 2 1 1 ...\n",
            " $ HALLUCIN   : int  0 0 0 0 0 0 0 0 0 0 ...\n",
            " $ ANXIETY    : int  1 3 2 1 0 3 0 1 1 1 ...\n",
            " $ GUILT      : int  0 0 3 0 0 3 0 0 1 0 ...\n",
            " $ PARANOIA   : int  0 0 0 0 0 0 0 1 0 0 ...\n",
            " $ OPPOSAT    : int  0 0 0 0 0 0 0 0 0 0 ...\n",
            " $ DISSOCIA   : int  0 0 0 0 0 0 0 0 0 0 ...\n",
            " $ PANIC      : int  0 0 0 1 0 0 0 0 0 0 ...\n",
            " $ IRRITABL   : int  0 2 0 1 0 3 0 0 0 0 ...\n",
            " $ OBBCOM     : int  0 0 0 0 0 2 1 0 0 0 ...\n",
            " $ SOMATIC    : int  0 0 0 0 0 0 0 0 0 0 ...\n",
            " $ SEXACTOUT  : int  0 0 0 0 0 0 0 0 0 0 ...\n",
            " $ ELVEMOOD   : int  0 0 0 0 0 0 0 0 0 0 ...\n",
            " $ MEDCOND    : int  0 0 1 2 0 0 0 0 0 0 ...\n",
            " $ IMPULSIVE  : int  0 0 0 0 0 3 0 0 0 0 ...\n",
            " $ OTHERSYMP  : chr  \"Not applicable\" \"Not applicable\" \"Not applicable\" \"Not applicable\" ...\n",
            " $ SUICIDE    : int  1 1 1 1 1 1 1 1 1 1 ...\n",
            " $ HOMICIDE   : int  1 1 1 1 1 1 1 1 1 1 ...\n",
            " $ PRIOUSUIC  : int  0 0 0 0 0 0 0 0 1 0 ...\n",
            " $ PRIORHOM   : int  0 0 0 0 0 0 0 0 0 0 ...\n",
            " $ FAMILY     : int  1 0 2 0 3 0 0 2 2 2 ...\n",
            " $ JOB        : int  0 3 0 1 2 0 1 0 4 1 ...\n",
            " $ DISABILI   : int  2 999 0 0 0 0 999 0 999 0 ...\n",
            " $ RELTIONS   : int  0 1 1 0 2 0 0 0 2 2 ...\n",
            " $ FINANCE    : int  0 3 0 0 0 0 0 0 1 0 ...\n",
            " $ HOBBIES    : int  0 3 0 0 0 0 0 0 2 0 ...\n",
            " $ HEALTH     : int  0 1 0 2 0 0 0 0 2 0 ...\n",
            " $ DAILYLIV   : int  0 0 0 0 0 0 0 0 1 0 ...\n",
            " $ EATING     : int  0 1 0 0 0 0 0 0 0 0 ...\n",
            " $ SLEEPING   : int  0 1 0 1 0 1 0 0 1 0 ...\n",
            " $ SEXUAL     : int  0 0 1 0 0 0 0 0 0 0 ...\n",
            " $ CONCENTR   : int  0 3 0 1 0 2 0 0 0 1 ...\n",
            "  [list output truncated]\n"
          ]
        },
        {
          "output_type": "display_data",
          "data": {
            "text/plain": [
              "       ID           INTAKET          ZIPCODE         INSURANC     \n",
              " Min.   :100.0   Min.   : 1.000   Min.   : 1.00   Min.   :0.0000  \n",
              " 1st Qu.:136.8   1st Qu.: 2.000   1st Qu.:22.00   1st Qu.:1.0000  \n",
              " Median :173.5   Median : 7.500   Median :27.00   Median :1.0000  \n",
              " Mean   :192.5   Mean   : 7.615   Mean   :31.46   Mean   :0.9149  \n",
              " 3rd Qu.:226.2   3rd Qu.:11.000   3rd Qu.:44.00   3rd Qu.:1.0000  \n",
              " Max.   :327.0   Max.   :19.000   Max.   :69.00   Max.   :1.0000  \n",
              "                                  NA's   :3       NA's   :7       \n",
              "      FEE             GENDER       RACE            AGE            SEXORIEN  \n",
              " Min.   :  0.00   Min.   :1   Min.   :1.000   Min.   :18.00   Gay     :142  \n",
              " 1st Qu.:  0.00   1st Qu.:1   1st Qu.:1.000   1st Qu.:30.00   Bisexual:  6  \n",
              " Median : 80.00   Median :1   Median :1.000   Median :36.00                 \n",
              " Mean   : 71.16   Mean   :1   Mean   :1.818   Mean   :36.29                 \n",
              " 3rd Qu.:120.00   3rd Qu.:1   3rd Qu.:2.000   3rd Qu.:41.00                 \n",
              " Max.   :180.00   Max.   :1   Max.   :5.000   Max.   :59.00                 \n",
              " NA's   :8                                    NA's   :1                     \n",
              "   STATEGRANT        LIVEWITH        RELATION        RELALANG  \n",
              " Min.   :0.0000   Min.   :1.000   Min.   :1.000   Min.   : 4   \n",
              " 1st Qu.:0.0000   1st Qu.:2.000   1st Qu.:1.000   1st Qu.: 9   \n",
              " Median :0.0000   Median :3.000   Median :4.000   Median :14   \n",
              " Mean   :0.3623   Mean   :3.135   Mean   :2.637   Mean   :14   \n",
              " 3rd Qu.:1.0000   3rd Qu.:3.000   3rd Qu.:4.000   3rd Qu.:19   \n",
              " Max.   :1.0000   Max.   :9.000   Max.   :4.000   Max.   :24   \n",
              " NA's   :10       NA's   :111     NA's   :46      NA's   :146  \n",
              "    CHILDREN          UNDER18        EMPLOY           PROB1       \n",
              " Min.   :0.00000   Min.   :0.0   Min.   :0.0000   Min.   : 1.000  \n",
              " 1st Qu.:0.00000   1st Qu.:1.0   1st Qu.:1.0000   1st Qu.: 1.000  \n",
              " Median :0.00000   Median :1.0   Median :1.0000   Median : 1.000  \n",
              " Mean   :0.08333   Mean   :1.2   Mean   :0.7794   Mean   : 6.694  \n",
              " 3rd Qu.:0.00000   3rd Qu.:2.0   3rd Qu.:1.0000   3rd Qu.: 6.000  \n",
              " Max.   :1.00000   Max.   :2.0   Max.   :1.0000   Max.   :50.000  \n",
              " NA's   :76        NA's   :143   NA's   :12       NA's   :4       \n",
              "     PROB2           PROB3           PROB4          DRUGEVER     \n",
              " Min.   : 1.00   Min.   : 1.00   Min.   : 2.00   Min.   :0.0000  \n",
              " 1st Qu.: 2.00   1st Qu.: 7.75   1st Qu.:22.00   1st Qu.:0.0000  \n",
              " Median :13.00   Median :15.50   Median :26.00   Median :0.0000  \n",
              " Mean   :14.49   Mean   :19.62   Mean   :27.83   Mean   :0.4797  \n",
              " 3rd Qu.:24.00   3rd Qu.:29.25   3rd Qu.:35.00   3rd Qu.:1.0000  \n",
              " Max.   :53.00   Max.   :54.00   Max.   :51.00   Max.   :1.0000  \n",
              " NA's   :43      NA's   :80      NA's   :119                     \n",
              "    DRUGAGE          DRUG1            DRUG2           DRUG3           DRUG4    \n",
              " Min.   :10.00   Min.   : 1.000   Min.   :1.000   Min.   :3.000   Min.   :6.0  \n",
              " 1st Qu.:14.00   1st Qu.: 1.000   1st Qu.:1.000   1st Qu.:3.000   1st Qu.:6.5  \n",
              " Median :16.00   Median : 1.000   Median :2.000   Median :3.000   Median :7.0  \n",
              " Mean   :17.36   Mean   : 1.824   Mean   :2.261   Mean   :3.857   Mean   :7.0  \n",
              " 3rd Qu.:18.00   3rd Qu.: 2.000   3rd Qu.:3.000   3rd Qu.:4.000   3rd Qu.:7.5  \n",
              " Max.   :47.00   Max.   :11.000   Max.   :5.000   Max.   :7.000   Max.   :8.0  \n",
              " NA's   :98      NA's   :80       NA's   :125     NA's   :141     NA's   :146  \n",
              "     DRUG5        PHYABUSE         PHYWHOM          SEXABUSE     \n",
              " Min.   :7     Min.   :0.0000   Min.   : 1.000   Min.   :0.0000  \n",
              " 1st Qu.:7     1st Qu.:0.0000   1st Qu.: 1.000   1st Qu.:0.0000  \n",
              " Median :7     Median :0.0000   Median : 3.000   Median :0.0000  \n",
              " Mean   :7     Mean   :0.3108   Mean   : 3.761   Mean   :0.2703  \n",
              " 3rd Qu.:7     3rd Qu.:1.0000   3rd Qu.: 5.000   3rd Qu.:1.0000  \n",
              " Max.   :7     Max.   :1.0000   Max.   :16.000   Max.   :1.0000  \n",
              " NA's   :147                    NA's   :102                      \n",
              "    SEXWHOM          EMOABUSE         EMOWHOM          CURPHYS      CURSEX \n",
              " Min.   : 1.000   Min.   :0.0000   Min.   : 1.000   Min.   :0   Min.   :0  \n",
              " 1st Qu.: 6.000   1st Qu.:0.0000   1st Qu.: 2.000   1st Qu.:0   1st Qu.:0  \n",
              " Median : 8.000   Median :0.0000   Median : 3.000   Median :0   Median :0  \n",
              " Mean   : 8.128   Mean   :0.4054   Mean   : 3.797   Mean   :0   Mean   :0  \n",
              " 3rd Qu.:10.000   3rd Qu.:1.0000   3rd Qu.: 4.000   3rd Qu.:0   3rd Qu.:0  \n",
              " Max.   :18.000   Max.   :1.0000   Max.   :17.000   Max.   :0   Max.   :0  \n",
              " NA's   :109                       NA's   :89       NA's   :1   NA's   :2  \n",
              "    AGELGBT          MED1       MED1SPECIFY             MED2      \n",
              " Min.   : 1.0   Min.   :1.000   Length:148         Min.   :1.000  \n",
              " 1st Qu.: 1.0   1st Qu.:1.000   Class :character   1st Qu.:6.000  \n",
              " Median :12.0   Median :6.000   Mode  :character   Median :6.000  \n",
              " Mean   :10.2   Mean   :4.513                      Mean   :5.604  \n",
              " 3rd Qu.:16.0   3rd Qu.:6.250                      3rd Qu.:7.000  \n",
              " Max.   :35.0   Max.   :9.000                      Max.   :8.000  \n",
              " NA's   :43     NA's   :72                         NA's   :95     \n",
              " MED2SPECIFY             MED3       MED3SPECIFY             MED4      \n",
              " Length:148         Min.   :2.000   Length:148         Min.   :2.000  \n",
              " Class :character   1st Qu.:6.000   Class :character   1st Qu.:6.000  \n",
              " Mode  :character   Median :6.000   Mode  :character   Median :6.000  \n",
              "                    Mean   :6.175                      Mean   :6.148  \n",
              "                    3rd Qu.:7.000                      3rd Qu.:7.000  \n",
              "                    Max.   :8.000                      Max.   :8.000  \n",
              "                    NA's   :108                        NA's   :121    \n",
              " MED4SPECIFY             MED5       MED5SPECIFY          MEDOTHER        \n",
              " Length:148         Min.   :1.000   Length:148         Length:148        \n",
              " Class :character   1st Qu.:6.000   Class :character   Class :character  \n",
              " Mode  :character   Median :6.000   Mode  :character   Mode  :character  \n",
              "                    Mean   :5.684                                        \n",
              "                    3rd Qu.:7.000                                        \n",
              "                    Max.   :8.000                                        \n",
              "                    NA's   :129                                          \n",
              "    MEDADHER     HIVSTAT      DATEDX              SENSE1          SENSE2   \n",
              " Min.   :2   Negative:40   Length:148         Min.   :1.000   Min.   :1    \n",
              " 1st Qu.:2   Positive:56   Class :character   1st Qu.:1.000   1st Qu.:1    \n",
              " Median :2   Unknown :52   Mode  :character   Median :1.000   Median :1    \n",
              " Mean   :2                                    Mean   :1.188   Mean   :1    \n",
              " 3rd Qu.:2                                    3rd Qu.:1.000   3rd Qu.:1    \n",
              " Max.   :2                                    Max.   :2.000   Max.   :1    \n",
              "                                              NA's   :100     NA's   :141  \n",
              "      CD4             VIRAL             CD4DATE              PREVMH      \n",
              " Min.   :  -8.0   Min.   :    -9.00   Length:148         Min.   :0.0000  \n",
              " 1st Qu.:  -8.0   1st Qu.:    -8.00   Class :character   1st Qu.:1.0000  \n",
              " Median :  -8.0   Median :    -8.00   Mode  :character   Median :1.0000  \n",
              " Mean   : 144.6   Mean   :   983.61                      Mean   :0.7823  \n",
              " 3rd Qu.: 258.8   3rd Qu.:     0.05                      3rd Qu.:1.0000  \n",
              " Max.   :1200.0   Max.   :116000.00                      Max.   :2.0000  \n",
              "                                                         NA's   :1       \n",
              "    IMPATIEN         OUTPATIE           DEP            HYPER       \n",
              " Min.   :0.0000   Min.   :0.0000   Min.   :0.000   Min.   :0.0000  \n",
              " 1st Qu.:0.0000   1st Qu.:1.0000   1st Qu.:1.000   1st Qu.:0.0000  \n",
              " Median :0.0000   Median :1.0000   Median :2.000   Median :0.0000  \n",
              " Mean   :0.1565   Mean   :0.7619   Mean   :1.784   Mean   :0.2162  \n",
              " 3rd Qu.:0.0000   3rd Qu.:1.0000   3rd Qu.:2.000   3rd Qu.:0.0000  \n",
              " Max.   :1.0000   Max.   :1.0000   Max.   :3.000   Max.   :3.0000  \n",
              " NA's   :1        NA's   :1                                        \n",
              "    LOENERG         TRAUVIC           GRIEF         TRAUPERP      \n",
              " Min.   :0.000   Min.   :0.0000   Min.   :0.00   Min.   :0.00000  \n",
              " 1st Qu.:0.000   1st Qu.:0.0000   1st Qu.:0.00   1st Qu.:0.00000  \n",
              " Median :1.000   Median :0.0000   Median :1.00   Median :0.00000  \n",
              " Mean   :1.291   Mean   :0.6892   Mean   :1.02   Mean   :0.05405  \n",
              " 3rd Qu.:2.000   3rd Qu.:2.0000   3rd Qu.:2.00   3rd Qu.:0.00000  \n",
              " Max.   :3.000   Max.   :3.0000   Max.   :3.00   Max.   :2.00000  \n",
              "                                                                  \n",
              "    HOPELESS        THOUGHT          DELUSION          WORTHLES     \n",
              " Min.   :0.000   Min.   :0.0000   Min.   :0.00000   Min.   :0.0000  \n",
              " 1st Qu.:0.000   1st Qu.:0.0000   1st Qu.:0.00000   1st Qu.:0.0000  \n",
              " Median :1.000   Median :0.0000   Median :0.00000   Median :0.0000  \n",
              " Mean   :0.973   Mean   :0.2297   Mean   :0.03378   Mean   :0.8716  \n",
              " 3rd Qu.:2.000   3rd Qu.:0.0000   3rd Qu.:0.00000   3rd Qu.:2.0000  \n",
              " Max.   :3.000   Max.   :3.0000   Max.   :2.00000   Max.   :3.0000  \n",
              "                                                                    \n",
              "    HALLUCIN          ANXIETY          GUILT           PARANOIA     \n",
              " Min.   :0.00000   Min.   :0.000   Min.   :0.0000   Min.   :0.0000  \n",
              " 1st Qu.:0.00000   1st Qu.:1.000   1st Qu.:0.0000   1st Qu.:0.0000  \n",
              " Median :0.00000   Median :2.000   Median :0.0000   Median :0.0000  \n",
              " Mean   :0.01351   Mean   :1.514   Mean   :0.7905   Mean   :0.1216  \n",
              " 3rd Qu.:0.00000   3rd Qu.:2.000   3rd Qu.:2.0000   3rd Qu.:0.0000  \n",
              " Max.   :1.00000   Max.   :3.000   Max.   :3.0000   Max.   :2.0000  \n",
              "                                                                    \n",
              "    OPPOSAT          DISSOCIA           PANIC           IRRITABL    \n",
              " Min.   :0.0000   Min.   :0.00000   Min.   :0.0000   Min.   :0.000  \n",
              " 1st Qu.:0.0000   1st Qu.:0.00000   1st Qu.:0.0000   1st Qu.:0.000  \n",
              " Median :0.0000   Median :0.00000   Median :0.0000   Median :1.000  \n",
              " Mean   :0.2095   Mean   :0.06081   Mean   :0.2365   Mean   :1.101  \n",
              " 3rd Qu.:0.0000   3rd Qu.:0.00000   3rd Qu.:0.0000   3rd Qu.:2.000  \n",
              " Max.   :3.0000   Max.   :3.00000   Max.   :3.0000   Max.   :3.000  \n",
              "                                                                    \n",
              "     OBBCOM          SOMATIC         SEXACTOUT         ELVEMOOD      \n",
              " Min.   :0.0000   Min.   :0.0000   Min.   :0.0000   Min.   :0.00000  \n",
              " 1st Qu.:0.0000   1st Qu.:0.0000   1st Qu.:0.0000   1st Qu.:0.00000  \n",
              " Median :0.0000   Median :0.0000   Median :0.0000   Median :0.00000  \n",
              " Mean   :0.5338   Mean   :0.1622   Mean   :0.3176   Mean   :0.06081  \n",
              " 3rd Qu.:1.0000   3rd Qu.:0.0000   3rd Qu.:0.0000   3rd Qu.:0.00000  \n",
              " Max.   :3.0000   Max.   :3.0000   Max.   :3.0000   Max.   :2.00000  \n",
              "                                                                     \n",
              "    MEDCOND         IMPULSIVE       OTHERSYMP            SUICIDE     \n",
              " Min.   :0.0000   Min.   :0.0000   Length:148         Min.   :1.000  \n",
              " 1st Qu.:0.0000   1st Qu.:0.0000   Class :character   1st Qu.:1.000  \n",
              " Median :0.0000   Median :0.0000   Mode  :character   Median :1.000  \n",
              " Mean   :0.2905   Mean   :0.4662                      Mean   :1.176  \n",
              " 3rd Qu.:0.0000   3rd Qu.:1.0000                      3rd Qu.:1.000  \n",
              " Max.   :3.0000   Max.   :3.0000                      Max.   :2.000  \n",
              "                                                                     \n",
              "    HOMICIDE      PRIOUSUIC          PRIORHOM            FAMILY     \n",
              " Min.   :1.00   Min.   :0.00000   Min.   :0.000000   Min.   :0.000  \n",
              " 1st Qu.:1.00   1st Qu.:0.00000   1st Qu.:0.000000   1st Qu.:0.000  \n",
              " Median :1.00   Median :0.00000   Median :0.000000   Median :2.000  \n",
              " Mean   :1.02   Mean   :0.02703   Mean   :0.006757   Mean   :1.398  \n",
              " 3rd Qu.:1.00   3rd Qu.:0.00000   3rd Qu.:0.000000   3rd Qu.:2.000  \n",
              " Max.   :2.00   Max.   :1.00000   Max.   :1.000000   Max.   :4.000  \n",
              "                                                     NA's   :20     \n",
              "      JOB           DISABILI         RELTIONS        FINANCE      \n",
              " Min.   :0.000   Min.   :0.0000   Min.   :0.000   Min.   :0.0000  \n",
              " 1st Qu.:0.000   1st Qu.:0.0000   1st Qu.:0.000   1st Qu.:0.0000  \n",
              " Median :1.000   Median :0.0000   Median :1.000   Median :0.0000  \n",
              " Mean   :1.168   Mean   :0.1771   Mean   :1.219   Mean   :0.7812  \n",
              " 3rd Qu.:2.000   3rd Qu.:0.0000   3rd Qu.:2.000   3rd Qu.:2.0000  \n",
              " Max.   :4.000   Max.   :4.0000   Max.   :4.000   Max.   :4.0000  \n",
              " NA's   :23      NA's   :52       NA's   :20      NA's   :20      \n",
              "    HOBBIES           HEALTH          DAILYLIV          EATING      \n",
              " Min.   :0.0000   Min.   :0.0000   Min.   :0.0000   Min.   :0.0000  \n",
              " 1st Qu.:0.0000   1st Qu.:0.0000   1st Qu.:0.0000   1st Qu.:0.0000  \n",
              " Median :0.0000   Median :0.0000   Median :0.0000   Median :0.0000  \n",
              " Mean   :0.8594   Mean   :0.6032   Mean   :0.1496   Mean   :0.3543  \n",
              " 3rd Qu.:2.0000   3rd Qu.:1.0000   3rd Qu.:0.0000   3rd Qu.:1.0000  \n",
              " Max.   :4.0000   Max.   :3.0000   Max.   :2.0000   Max.   :3.0000  \n",
              " NA's   :20       NA's   :22       NA's   :21       NA's   :21      \n",
              "    SLEEPING          SEXUAL          CONCENTR          TEMPER      \n",
              " Min.   :0.0000   Min.   :0.0000   Min.   :0.0000   Min.   :0.0000  \n",
              " 1st Qu.:0.0000   1st Qu.:0.0000   1st Qu.:0.0000   1st Qu.:0.0000  \n",
              " Median :1.0000   Median :0.0000   Median :0.0000   Median :0.0000  \n",
              " Mean   :0.6063   Mean   :0.3095   Mean   :0.8254   Mean   :0.5476  \n",
              " 3rd Qu.:1.0000   3rd Qu.:1.0000   3rd Qu.:2.0000   3rd Qu.:1.0000  \n",
              " Max.   :4.0000   Max.   :1.0000   Max.   :4.0000   Max.   :3.0000  \n",
              " NA's   :21       NA's   :22       NA's   :22       NA's   :22      \n",
              "     AXISI1          AXISI2          AXISI3         AXISIRO     \n",
              " Min.   :292.0   Min.   :  1.0   Min.   :296.3   Min.   :296.2  \n",
              " 1st Qu.:300.0   1st Qu.:300.0   1st Qu.:300.0   1st Qu.:296.8  \n",
              " Median :304.8   Median :303.9   Median :300.0   Median :300.3  \n",
              " Mean   :304.0   Mean   :292.6   Mean   :301.4   Mean   :301.1  \n",
              " 3rd Qu.:309.3   3rd Qu.:307.1   3rd Qu.:304.5   3rd Qu.:300.8  \n",
              " Max.   :311.0   Max.   :314.0   Max.   :306.0   Max.   :309.8  \n",
              " NA's   :1       NA's   :122     NA's   :142     NA's   :125    \n",
              "     AXISII         AXISIII1         AXISIII2         AXISIII3     \n",
              " Min.   :799.9   Min.   : 1.000   Min.   : 1.000   Min.   : 1.000  \n",
              " 1st Qu.:799.9   1st Qu.: 1.000   1st Qu.: 1.000   1st Qu.: 1.000  \n",
              " Median :799.9   Median : 2.000   Median : 1.000   Median : 1.000  \n",
              " Mean   :799.9   Mean   : 4.892   Mean   : 3.358   Mean   : 2.196  \n",
              " 3rd Qu.:799.9   3rd Qu.: 2.000   3rd Qu.: 1.000   3rd Qu.: 1.000  \n",
              " Max.   :799.9   Max.   :39.000   Max.   :41.000   Max.   :37.000  \n",
              " NA's   :2                                                         \n",
              "    AXISIII4         AXISIV1          AXISIV2          AXISIV3      \n",
              " Min.   : 1.000   Min.   : 1.000   Min.   : 1.000   Min.   : 1.000  \n",
              " 1st Qu.: 1.000   1st Qu.: 1.000   1st Qu.: 1.000   1st Qu.: 1.000  \n",
              " Median : 1.000   Median : 6.000   Median : 1.000   Median : 1.000  \n",
              " Mean   : 1.507   Mean   : 8.764   Mean   : 4.709   Mean   : 1.554  \n",
              " 3rd Qu.: 1.000   3rd Qu.:15.000   3rd Qu.: 7.000   3rd Qu.: 1.000  \n",
              " Max.   :38.000   Max.   :33.000   Max.   :30.000   Max.   :22.000  \n",
              "                                                                    \n",
              "     AXISV          TXPLAN1          TXPLAN2         TXPLAN3         TXPLAN4   \n",
              " Min.   : 1.00   Min.   : 1.000   Min.   : 1.00   Min.   : 2.00   Min.   :8    \n",
              " 1st Qu.:54.75   1st Qu.: 1.000   1st Qu.: 2.00   1st Qu.: 3.00   1st Qu.:8    \n",
              " Median :59.00   Median : 1.000   Median : 2.00   Median : 3.00   Median :8    \n",
              " Mean   :57.64   Mean   : 1.945   Mean   : 2.74   Mean   : 6.35   Mean   :8    \n",
              " 3rd Qu.:60.00   3rd Qu.: 1.000   3rd Qu.: 2.00   3rd Qu.: 8.75   3rd Qu.:8    \n",
              " Max.   :80.00   Max.   :19.000   Max.   :20.00   Max.   :18.00   Max.   :8    \n",
              "                 NA's   :2        NA's   :75      NA's   :128     NA's   :147  "
            ]
          },
          "metadata": {}
        },
        {
          "output_type": "display_data",
          "data": {
            "text/plain": [
              "\n",
              "   1    2    3    4    5    6    8   12   13   14   15   16   19   20   22   23 \n",
              "  74   10    1   16    2    6    4    1    2    3    2    2    1    1    1    5 \n",
              "  24   32   45   50 <NA> \n",
              "   5    6    1    1    4 "
            ]
          },
          "metadata": {}
        }
      ]
    },
    {
      "cell_type": "code",
      "source": [
        "# Basic summary of all variables\n",
        "summary(mydata)\n",
        "\n",
        "# Install and load dplyr for easier data manipulation (optional)\n",
        "if (!require(\"dplyr\")) install.packages(\"dplyr\")\n",
        "library(dplyr)\n",
        "\n",
        "# Example: Summarize age distribution\n",
        "mydata %>%\n",
        "  summarise(\n",
        "    Mean_Age = mean(AGE, na.rm = TRUE),\n",
        "    Median_Age = median(AGE, na.rm = TRUE),\n",
        "    Min_Age = min(AGE, na.rm = TRUE),\n",
        "    Max_Age = max(AGE, na.rm = TRUE)\n",
        "  )\n",
        "\n",
        "# Install and load ggplot2 for visualization (optional)\n",
        "if (!require(\"ggplot2\")) install.packages(\"ggplot2\")\n",
        "library(ggplot2)\n",
        "\n",
        "# Histogram of AGE\n",
        "ggplot(mydata, aes(x = AGE)) +\n",
        "  geom_histogram(binwidth = 5, fill = \"blue\", color = \"black\") +\n",
        "  labs(title = \"Age Distribution\", x = \"Age\", y = \"Count\") +\n",
        "  theme_minimal()\n",
        "\n",
        "# Bar plot of sexual orientation\n",
        "ggplot(mydata, aes(x = SEXORIEN)) +\n",
        "  geom_bar(fill = \"green\") +\n",
        "  labs(title = \"Sexual Orientation Distribution\", x = \"Sexual Orientation\", y = \"Count\") +\n",
        "  theme_minimal()"
      ],
      "metadata": {
        "colab": {
          "base_uri": "https://localhost:8080/",
          "height": 1000
        },
        "id": "CR213sUtHnCz",
        "outputId": "2d726a6b-5b61-4351-a630-ea14fda48ff3"
      },
      "execution_count": null,
      "outputs": [
        {
          "output_type": "display_data",
          "data": {
            "text/plain": [
              "       ID           INTAKET          ZIPCODE         INSURANC     \n",
              " Min.   :100.0   Min.   : 1.000   Min.   : 1.00   Min.   :0.0000  \n",
              " 1st Qu.:136.8   1st Qu.: 2.000   1st Qu.:22.00   1st Qu.:1.0000  \n",
              " Median :173.5   Median : 7.500   Median :27.00   Median :1.0000  \n",
              " Mean   :192.5   Mean   : 7.615   Mean   :31.46   Mean   :0.9149  \n",
              " 3rd Qu.:226.2   3rd Qu.:11.000   3rd Qu.:44.00   3rd Qu.:1.0000  \n",
              " Max.   :327.0   Max.   :19.000   Max.   :69.00   Max.   :1.0000  \n",
              "                                  NA's   :3       NA's   :7       \n",
              "      FEE             GENDER       RACE            AGE            SEXORIEN  \n",
              " Min.   :  0.00   Min.   :1   Min.   :1.000   Min.   :18.00   Gay     :142  \n",
              " 1st Qu.:  0.00   1st Qu.:1   1st Qu.:1.000   1st Qu.:30.00   Bisexual:  6  \n",
              " Median : 80.00   Median :1   Median :1.000   Median :36.00                 \n",
              " Mean   : 71.16   Mean   :1   Mean   :1.818   Mean   :36.29                 \n",
              " 3rd Qu.:120.00   3rd Qu.:1   3rd Qu.:2.000   3rd Qu.:41.00                 \n",
              " Max.   :180.00   Max.   :1   Max.   :5.000   Max.   :59.00                 \n",
              " NA's   :8                                    NA's   :1                     \n",
              "   STATEGRANT        LIVEWITH        RELATION        RELALANG  \n",
              " Min.   :0.0000   Min.   :1.000   Min.   :1.000   Min.   : 4   \n",
              " 1st Qu.:0.0000   1st Qu.:2.000   1st Qu.:1.000   1st Qu.: 9   \n",
              " Median :0.0000   Median :3.000   Median :4.000   Median :14   \n",
              " Mean   :0.3623   Mean   :3.135   Mean   :2.637   Mean   :14   \n",
              " 3rd Qu.:1.0000   3rd Qu.:3.000   3rd Qu.:4.000   3rd Qu.:19   \n",
              " Max.   :1.0000   Max.   :9.000   Max.   :4.000   Max.   :24   \n",
              " NA's   :10       NA's   :111     NA's   :46      NA's   :146  \n",
              "    CHILDREN          UNDER18        EMPLOY           PROB1       \n",
              " Min.   :0.00000   Min.   :0.0   Min.   :0.0000   Min.   : 1.000  \n",
              " 1st Qu.:0.00000   1st Qu.:1.0   1st Qu.:1.0000   1st Qu.: 1.000  \n",
              " Median :0.00000   Median :1.0   Median :1.0000   Median : 1.000  \n",
              " Mean   :0.08333   Mean   :1.2   Mean   :0.7794   Mean   : 6.694  \n",
              " 3rd Qu.:0.00000   3rd Qu.:2.0   3rd Qu.:1.0000   3rd Qu.: 6.000  \n",
              " Max.   :1.00000   Max.   :2.0   Max.   :1.0000   Max.   :50.000  \n",
              " NA's   :76        NA's   :143   NA's   :12       NA's   :4       \n",
              "     PROB2           PROB3           PROB4          DRUGEVER     \n",
              " Min.   : 1.00   Min.   : 1.00   Min.   : 2.00   Min.   :0.0000  \n",
              " 1st Qu.: 2.00   1st Qu.: 7.75   1st Qu.:22.00   1st Qu.:0.0000  \n",
              " Median :13.00   Median :15.50   Median :26.00   Median :0.0000  \n",
              " Mean   :14.49   Mean   :19.62   Mean   :27.83   Mean   :0.4797  \n",
              " 3rd Qu.:24.00   3rd Qu.:29.25   3rd Qu.:35.00   3rd Qu.:1.0000  \n",
              " Max.   :53.00   Max.   :54.00   Max.   :51.00   Max.   :1.0000  \n",
              " NA's   :43      NA's   :80      NA's   :119                     \n",
              "    DRUGAGE          DRUG1            DRUG2           DRUG3           DRUG4    \n",
              " Min.   :10.00   Min.   : 1.000   Min.   :1.000   Min.   :3.000   Min.   :6.0  \n",
              " 1st Qu.:14.00   1st Qu.: 1.000   1st Qu.:1.000   1st Qu.:3.000   1st Qu.:6.5  \n",
              " Median :16.00   Median : 1.000   Median :2.000   Median :3.000   Median :7.0  \n",
              " Mean   :17.36   Mean   : 1.824   Mean   :2.261   Mean   :3.857   Mean   :7.0  \n",
              " 3rd Qu.:18.00   3rd Qu.: 2.000   3rd Qu.:3.000   3rd Qu.:4.000   3rd Qu.:7.5  \n",
              " Max.   :47.00   Max.   :11.000   Max.   :5.000   Max.   :7.000   Max.   :8.0  \n",
              " NA's   :98      NA's   :80       NA's   :125     NA's   :141     NA's   :146  \n",
              "     DRUG5        PHYABUSE         PHYWHOM          SEXABUSE     \n",
              " Min.   :7     Min.   :0.0000   Min.   : 1.000   Min.   :0.0000  \n",
              " 1st Qu.:7     1st Qu.:0.0000   1st Qu.: 1.000   1st Qu.:0.0000  \n",
              " Median :7     Median :0.0000   Median : 3.000   Median :0.0000  \n",
              " Mean   :7     Mean   :0.3108   Mean   : 3.761   Mean   :0.2703  \n",
              " 3rd Qu.:7     3rd Qu.:1.0000   3rd Qu.: 5.000   3rd Qu.:1.0000  \n",
              " Max.   :7     Max.   :1.0000   Max.   :16.000   Max.   :1.0000  \n",
              " NA's   :147                    NA's   :102                      \n",
              "    SEXWHOM          EMOABUSE         EMOWHOM          CURPHYS      CURSEX \n",
              " Min.   : 1.000   Min.   :0.0000   Min.   : 1.000   Min.   :0   Min.   :0  \n",
              " 1st Qu.: 6.000   1st Qu.:0.0000   1st Qu.: 2.000   1st Qu.:0   1st Qu.:0  \n",
              " Median : 8.000   Median :0.0000   Median : 3.000   Median :0   Median :0  \n",
              " Mean   : 8.128   Mean   :0.4054   Mean   : 3.797   Mean   :0   Mean   :0  \n",
              " 3rd Qu.:10.000   3rd Qu.:1.0000   3rd Qu.: 4.000   3rd Qu.:0   3rd Qu.:0  \n",
              " Max.   :18.000   Max.   :1.0000   Max.   :17.000   Max.   :0   Max.   :0  \n",
              " NA's   :109                       NA's   :89       NA's   :1   NA's   :2  \n",
              "    AGELGBT          MED1       MED1SPECIFY             MED2      \n",
              " Min.   : 1.0   Min.   :1.000   Length:148         Min.   :1.000  \n",
              " 1st Qu.: 1.0   1st Qu.:1.000   Class :character   1st Qu.:6.000  \n",
              " Median :12.0   Median :6.000   Mode  :character   Median :6.000  \n",
              " Mean   :10.2   Mean   :4.513                      Mean   :5.604  \n",
              " 3rd Qu.:16.0   3rd Qu.:6.250                      3rd Qu.:7.000  \n",
              " Max.   :35.0   Max.   :9.000                      Max.   :8.000  \n",
              " NA's   :43     NA's   :72                         NA's   :95     \n",
              " MED2SPECIFY             MED3       MED3SPECIFY             MED4      \n",
              " Length:148         Min.   :2.000   Length:148         Min.   :2.000  \n",
              " Class :character   1st Qu.:6.000   Class :character   1st Qu.:6.000  \n",
              " Mode  :character   Median :6.000   Mode  :character   Median :6.000  \n",
              "                    Mean   :6.175                      Mean   :6.148  \n",
              "                    3rd Qu.:7.000                      3rd Qu.:7.000  \n",
              "                    Max.   :8.000                      Max.   :8.000  \n",
              "                    NA's   :108                        NA's   :121    \n",
              " MED4SPECIFY             MED5       MED5SPECIFY          MEDOTHER        \n",
              " Length:148         Min.   :1.000   Length:148         Length:148        \n",
              " Class :character   1st Qu.:6.000   Class :character   Class :character  \n",
              " Mode  :character   Median :6.000   Mode  :character   Mode  :character  \n",
              "                    Mean   :5.684                                        \n",
              "                    3rd Qu.:7.000                                        \n",
              "                    Max.   :8.000                                        \n",
              "                    NA's   :129                                          \n",
              "    MEDADHER     HIVSTAT      DATEDX              SENSE1          SENSE2   \n",
              " Min.   :2   Negative:40   Length:148         Min.   :1.000   Min.   :1    \n",
              " 1st Qu.:2   Positive:56   Class :character   1st Qu.:1.000   1st Qu.:1    \n",
              " Median :2   Unknown :52   Mode  :character   Median :1.000   Median :1    \n",
              " Mean   :2                                    Mean   :1.188   Mean   :1    \n",
              " 3rd Qu.:2                                    3rd Qu.:1.000   3rd Qu.:1    \n",
              " Max.   :2                                    Max.   :2.000   Max.   :1    \n",
              "                                              NA's   :100     NA's   :141  \n",
              "      CD4             VIRAL             CD4DATE              PREVMH      \n",
              " Min.   :  -8.0   Min.   :    -9.00   Length:148         Min.   :0.0000  \n",
              " 1st Qu.:  -8.0   1st Qu.:    -8.00   Class :character   1st Qu.:1.0000  \n",
              " Median :  -8.0   Median :    -8.00   Mode  :character   Median :1.0000  \n",
              " Mean   : 144.6   Mean   :   983.61                      Mean   :0.7823  \n",
              " 3rd Qu.: 258.8   3rd Qu.:     0.05                      3rd Qu.:1.0000  \n",
              " Max.   :1200.0   Max.   :116000.00                      Max.   :2.0000  \n",
              "                                                         NA's   :1       \n",
              "    IMPATIEN         OUTPATIE           DEP            HYPER       \n",
              " Min.   :0.0000   Min.   :0.0000   Min.   :0.000   Min.   :0.0000  \n",
              " 1st Qu.:0.0000   1st Qu.:1.0000   1st Qu.:1.000   1st Qu.:0.0000  \n",
              " Median :0.0000   Median :1.0000   Median :2.000   Median :0.0000  \n",
              " Mean   :0.1565   Mean   :0.7619   Mean   :1.784   Mean   :0.2162  \n",
              " 3rd Qu.:0.0000   3rd Qu.:1.0000   3rd Qu.:2.000   3rd Qu.:0.0000  \n",
              " Max.   :1.0000   Max.   :1.0000   Max.   :3.000   Max.   :3.0000  \n",
              " NA's   :1        NA's   :1                                        \n",
              "    LOENERG         TRAUVIC           GRIEF         TRAUPERP      \n",
              " Min.   :0.000   Min.   :0.0000   Min.   :0.00   Min.   :0.00000  \n",
              " 1st Qu.:0.000   1st Qu.:0.0000   1st Qu.:0.00   1st Qu.:0.00000  \n",
              " Median :1.000   Median :0.0000   Median :1.00   Median :0.00000  \n",
              " Mean   :1.291   Mean   :0.6892   Mean   :1.02   Mean   :0.05405  \n",
              " 3rd Qu.:2.000   3rd Qu.:2.0000   3rd Qu.:2.00   3rd Qu.:0.00000  \n",
              " Max.   :3.000   Max.   :3.0000   Max.   :3.00   Max.   :2.00000  \n",
              "                                                                  \n",
              "    HOPELESS        THOUGHT          DELUSION          WORTHLES     \n",
              " Min.   :0.000   Min.   :0.0000   Min.   :0.00000   Min.   :0.0000  \n",
              " 1st Qu.:0.000   1st Qu.:0.0000   1st Qu.:0.00000   1st Qu.:0.0000  \n",
              " Median :1.000   Median :0.0000   Median :0.00000   Median :0.0000  \n",
              " Mean   :0.973   Mean   :0.2297   Mean   :0.03378   Mean   :0.8716  \n",
              " 3rd Qu.:2.000   3rd Qu.:0.0000   3rd Qu.:0.00000   3rd Qu.:2.0000  \n",
              " Max.   :3.000   Max.   :3.0000   Max.   :2.00000   Max.   :3.0000  \n",
              "                                                                    \n",
              "    HALLUCIN          ANXIETY          GUILT           PARANOIA     \n",
              " Min.   :0.00000   Min.   :0.000   Min.   :0.0000   Min.   :0.0000  \n",
              " 1st Qu.:0.00000   1st Qu.:1.000   1st Qu.:0.0000   1st Qu.:0.0000  \n",
              " Median :0.00000   Median :2.000   Median :0.0000   Median :0.0000  \n",
              " Mean   :0.01351   Mean   :1.514   Mean   :0.7905   Mean   :0.1216  \n",
              " 3rd Qu.:0.00000   3rd Qu.:2.000   3rd Qu.:2.0000   3rd Qu.:0.0000  \n",
              " Max.   :1.00000   Max.   :3.000   Max.   :3.0000   Max.   :2.0000  \n",
              "                                                                    \n",
              "    OPPOSAT          DISSOCIA           PANIC           IRRITABL    \n",
              " Min.   :0.0000   Min.   :0.00000   Min.   :0.0000   Min.   :0.000  \n",
              " 1st Qu.:0.0000   1st Qu.:0.00000   1st Qu.:0.0000   1st Qu.:0.000  \n",
              " Median :0.0000   Median :0.00000   Median :0.0000   Median :1.000  \n",
              " Mean   :0.2095   Mean   :0.06081   Mean   :0.2365   Mean   :1.101  \n",
              " 3rd Qu.:0.0000   3rd Qu.:0.00000   3rd Qu.:0.0000   3rd Qu.:2.000  \n",
              " Max.   :3.0000   Max.   :3.00000   Max.   :3.0000   Max.   :3.000  \n",
              "                                                                    \n",
              "     OBBCOM          SOMATIC         SEXACTOUT         ELVEMOOD      \n",
              " Min.   :0.0000   Min.   :0.0000   Min.   :0.0000   Min.   :0.00000  \n",
              " 1st Qu.:0.0000   1st Qu.:0.0000   1st Qu.:0.0000   1st Qu.:0.00000  \n",
              " Median :0.0000   Median :0.0000   Median :0.0000   Median :0.00000  \n",
              " Mean   :0.5338   Mean   :0.1622   Mean   :0.3176   Mean   :0.06081  \n",
              " 3rd Qu.:1.0000   3rd Qu.:0.0000   3rd Qu.:0.0000   3rd Qu.:0.00000  \n",
              " Max.   :3.0000   Max.   :3.0000   Max.   :3.0000   Max.   :2.00000  \n",
              "                                                                     \n",
              "    MEDCOND         IMPULSIVE       OTHERSYMP            SUICIDE     \n",
              " Min.   :0.0000   Min.   :0.0000   Length:148         Min.   :1.000  \n",
              " 1st Qu.:0.0000   1st Qu.:0.0000   Class :character   1st Qu.:1.000  \n",
              " Median :0.0000   Median :0.0000   Mode  :character   Median :1.000  \n",
              " Mean   :0.2905   Mean   :0.4662                      Mean   :1.176  \n",
              " 3rd Qu.:0.0000   3rd Qu.:1.0000                      3rd Qu.:1.000  \n",
              " Max.   :3.0000   Max.   :3.0000                      Max.   :2.000  \n",
              "                                                                     \n",
              "    HOMICIDE      PRIOUSUIC          PRIORHOM            FAMILY     \n",
              " Min.   :1.00   Min.   :0.00000   Min.   :0.000000   Min.   :0.000  \n",
              " 1st Qu.:1.00   1st Qu.:0.00000   1st Qu.:0.000000   1st Qu.:0.000  \n",
              " Median :1.00   Median :0.00000   Median :0.000000   Median :2.000  \n",
              " Mean   :1.02   Mean   :0.02703   Mean   :0.006757   Mean   :1.398  \n",
              " 3rd Qu.:1.00   3rd Qu.:0.00000   3rd Qu.:0.000000   3rd Qu.:2.000  \n",
              " Max.   :2.00   Max.   :1.00000   Max.   :1.000000   Max.   :4.000  \n",
              "                                                     NA's   :20     \n",
              "      JOB           DISABILI         RELTIONS        FINANCE      \n",
              " Min.   :0.000   Min.   :0.0000   Min.   :0.000   Min.   :0.0000  \n",
              " 1st Qu.:0.000   1st Qu.:0.0000   1st Qu.:0.000   1st Qu.:0.0000  \n",
              " Median :1.000   Median :0.0000   Median :1.000   Median :0.0000  \n",
              " Mean   :1.168   Mean   :0.1771   Mean   :1.219   Mean   :0.7812  \n",
              " 3rd Qu.:2.000   3rd Qu.:0.0000   3rd Qu.:2.000   3rd Qu.:2.0000  \n",
              " Max.   :4.000   Max.   :4.0000   Max.   :4.000   Max.   :4.0000  \n",
              " NA's   :23      NA's   :52       NA's   :20      NA's   :20      \n",
              "    HOBBIES           HEALTH          DAILYLIV          EATING      \n",
              " Min.   :0.0000   Min.   :0.0000   Min.   :0.0000   Min.   :0.0000  \n",
              " 1st Qu.:0.0000   1st Qu.:0.0000   1st Qu.:0.0000   1st Qu.:0.0000  \n",
              " Median :0.0000   Median :0.0000   Median :0.0000   Median :0.0000  \n",
              " Mean   :0.8594   Mean   :0.6032   Mean   :0.1496   Mean   :0.3543  \n",
              " 3rd Qu.:2.0000   3rd Qu.:1.0000   3rd Qu.:0.0000   3rd Qu.:1.0000  \n",
              " Max.   :4.0000   Max.   :3.0000   Max.   :2.0000   Max.   :3.0000  \n",
              " NA's   :20       NA's   :22       NA's   :21       NA's   :21      \n",
              "    SLEEPING          SEXUAL          CONCENTR          TEMPER      \n",
              " Min.   :0.0000   Min.   :0.0000   Min.   :0.0000   Min.   :0.0000  \n",
              " 1st Qu.:0.0000   1st Qu.:0.0000   1st Qu.:0.0000   1st Qu.:0.0000  \n",
              " Median :1.0000   Median :0.0000   Median :0.0000   Median :0.0000  \n",
              " Mean   :0.6063   Mean   :0.3095   Mean   :0.8254   Mean   :0.5476  \n",
              " 3rd Qu.:1.0000   3rd Qu.:1.0000   3rd Qu.:2.0000   3rd Qu.:1.0000  \n",
              " Max.   :4.0000   Max.   :1.0000   Max.   :4.0000   Max.   :3.0000  \n",
              " NA's   :21       NA's   :22       NA's   :22       NA's   :22      \n",
              "     AXISI1          AXISI2          AXISI3         AXISIRO     \n",
              " Min.   :292.0   Min.   :  1.0   Min.   :296.3   Min.   :296.2  \n",
              " 1st Qu.:300.0   1st Qu.:300.0   1st Qu.:300.0   1st Qu.:296.8  \n",
              " Median :304.8   Median :303.9   Median :300.0   Median :300.3  \n",
              " Mean   :304.0   Mean   :292.6   Mean   :301.4   Mean   :301.1  \n",
              " 3rd Qu.:309.3   3rd Qu.:307.1   3rd Qu.:304.5   3rd Qu.:300.8  \n",
              " Max.   :311.0   Max.   :314.0   Max.   :306.0   Max.   :309.8  \n",
              " NA's   :1       NA's   :122     NA's   :142     NA's   :125    \n",
              "     AXISII         AXISIII1         AXISIII2         AXISIII3     \n",
              " Min.   :799.9   Min.   : 1.000   Min.   : 1.000   Min.   : 1.000  \n",
              " 1st Qu.:799.9   1st Qu.: 1.000   1st Qu.: 1.000   1st Qu.: 1.000  \n",
              " Median :799.9   Median : 2.000   Median : 1.000   Median : 1.000  \n",
              " Mean   :799.9   Mean   : 4.892   Mean   : 3.358   Mean   : 2.196  \n",
              " 3rd Qu.:799.9   3rd Qu.: 2.000   3rd Qu.: 1.000   3rd Qu.: 1.000  \n",
              " Max.   :799.9   Max.   :39.000   Max.   :41.000   Max.   :37.000  \n",
              " NA's   :2                                                         \n",
              "    AXISIII4         AXISIV1          AXISIV2          AXISIV3      \n",
              " Min.   : 1.000   Min.   : 1.000   Min.   : 1.000   Min.   : 1.000  \n",
              " 1st Qu.: 1.000   1st Qu.: 1.000   1st Qu.: 1.000   1st Qu.: 1.000  \n",
              " Median : 1.000   Median : 6.000   Median : 1.000   Median : 1.000  \n",
              " Mean   : 1.507   Mean   : 8.764   Mean   : 4.709   Mean   : 1.554  \n",
              " 3rd Qu.: 1.000   3rd Qu.:15.000   3rd Qu.: 7.000   3rd Qu.: 1.000  \n",
              " Max.   :38.000   Max.   :33.000   Max.   :30.000   Max.   :22.000  \n",
              "                                                                    \n",
              "     AXISV          TXPLAN1          TXPLAN2         TXPLAN3         TXPLAN4   \n",
              " Min.   : 1.00   Min.   : 1.000   Min.   : 1.00   Min.   : 2.00   Min.   :8    \n",
              " 1st Qu.:54.75   1st Qu.: 1.000   1st Qu.: 2.00   1st Qu.: 3.00   1st Qu.:8    \n",
              " Median :59.00   Median : 1.000   Median : 2.00   Median : 3.00   Median :8    \n",
              " Mean   :57.64   Mean   : 1.945   Mean   : 2.74   Mean   : 6.35   Mean   :8    \n",
              " 3rd Qu.:60.00   3rd Qu.: 1.000   3rd Qu.: 2.00   3rd Qu.: 8.75   3rd Qu.:8    \n",
              " Max.   :80.00   Max.   :19.000   Max.   :20.00   Max.   :18.00   Max.   :8    \n",
              "                 NA's   :2        NA's   :75      NA's   :128     NA's   :147  "
            ]
          },
          "metadata": {}
        },
        {
          "output_type": "stream",
          "name": "stderr",
          "text": [
            "Loading required package: dplyr\n",
            "\n",
            "\n",
            "Attaching package: ‘dplyr’\n",
            "\n",
            "\n",
            "The following objects are masked from ‘package:stats’:\n",
            "\n",
            "    filter, lag\n",
            "\n",
            "\n",
            "The following objects are masked from ‘package:base’:\n",
            "\n",
            "    intersect, setdiff, setequal, union\n",
            "\n",
            "\n"
          ]
        },
        {
          "output_type": "display_data",
          "data": {
            "text/html": [
              "<table class=\"dataframe\">\n",
              "<caption>A data.frame: 1 × 4</caption>\n",
              "<thead>\n",
              "\t<tr><th scope=col>Mean_Age</th><th scope=col>Median_Age</th><th scope=col>Min_Age</th><th scope=col>Max_Age</th></tr>\n",
              "\t<tr><th scope=col>&lt;dbl&gt;</th><th scope=col>&lt;int&gt;</th><th scope=col>&lt;int&gt;</th><th scope=col>&lt;int&gt;</th></tr>\n",
              "</thead>\n",
              "<tbody>\n",
              "\t<tr><td>36.28571</td><td>36</td><td>18</td><td>59</td></tr>\n",
              "</tbody>\n",
              "</table>\n"
            ],
            "text/markdown": "\nA data.frame: 1 × 4\n\n| Mean_Age &lt;dbl&gt; | Median_Age &lt;int&gt; | Min_Age &lt;int&gt; | Max_Age &lt;int&gt; |\n|---|---|---|---|\n| 36.28571 | 36 | 18 | 59 |\n\n",
            "text/latex": "A data.frame: 1 × 4\n\\begin{tabular}{llll}\n Mean\\_Age & Median\\_Age & Min\\_Age & Max\\_Age\\\\\n <dbl> & <int> & <int> & <int>\\\\\n\\hline\n\t 36.28571 & 36 & 18 & 59\\\\\n\\end{tabular}\n",
            "text/plain": [
              "  Mean_Age Median_Age Min_Age Max_Age\n",
              "1 36.28571 36         18      59     "
            ]
          },
          "metadata": {}
        },
        {
          "output_type": "stream",
          "name": "stderr",
          "text": [
            "Warning message:\n",
            "“\u001b[1m\u001b[22mRemoved 1 row containing non-finite outside the scale range (`stat_bin()`).”\n"
          ]
        },
        {
          "output_type": "display_data",
          "data": {
            "text/plain": [
              "plot without title"
            ],
            "image/png": "[encoded data removed]"
          },
          "metadata": {
            "image/png": {
              "width": 420,
              "height": 420
            }
          }
        },
        {
          "output_type": "display_data",
          "data": {
            "text/plain": [
              "plot without title"
            ],
            "image/png": "[encoded data removed]"
          },
          "metadata": {
            "image/png": {
              "width": 420,
              "height": 420
            }
          }
        }
      ]
    },
    {
      "cell_type": "code",
      "source": [
        "#Shows how many participants reported each primary problem (e.g., Depression is common, with 74 cases).\n",
        "\n",
        "# Define presenting problem labels (partial list from codebook)\n",
        "prob_labels <- c(\n",
        "  \"1\" = \"Depression\", \"2\" = \"Anxiety\", \"3\" = \"Panic attacks\", \"4\" = \"Relationship issues\",\n",
        "  \"5\" = \"Intimacy issues\", \"6\" = \"Sexual compulsivity\", \"8\" = \"Self-esteem\", \"12\" = \"Transgender issues\",\n",
        "  \"13\" = \"Isolation\", \"14\" = \"Stress\", \"15\" = \"Sleep problems\", \"16\" = \"Vocational problems\",\n",
        "  \"19\" = \"Anger/attacks\", \"20\" = \"Medical\", \"22\" = \"Eating disorders\", \"23\" = \"Bipolar\",\n",
        "  \"24\" = \"Substance abuse\", \"32\" = \"HIV+ issues\", \"45\" = \"Self-criticism\", \"50\" = \"Abuse\"\n",
        ")\n",
        "\n",
        "# Convert PROB1 to factor with labels\n",
        "mydata$PROB1 <- factor(mydata$PROB1, levels = names(prob_labels), labels = prob_labels)\n",
        "\n",
        "# Frequency table for PROB1\n",
        "prob1_table <- table(mydata$PROB1, useNA = \"ifany\")\n",
        "print(prob1_table)\n",
        "\n",
        "# Bar plot of PROB1\n",
        "ggplot(mydata, aes(x = PROB1)) +\n",
        "  geom_bar(fill = \"purple\") +\n",
        "  labs(title = \"Primary Presenting Problems\", x = \"Problem\", y = \"Count\") +\n",
        "  theme(axis.text.x = element_text(angle = 45, hjust = 1))"
      ],
      "metadata": {
        "colab": {
          "base_uri": "https://localhost:8080/",
          "height": 669
        },
        "id": "jHL3lmuDIyGZ",
        "outputId": "5794f4de-ec3a-4af3-f9bd-c6aa9cdd04bd"
      },
      "execution_count": null,
      "outputs": [
        {
          "output_type": "stream",
          "name": "stdout",
          "text": [
            "\n",
            "         Depression             Anxiety       Panic attacks Relationship issues \n",
            "                 74                  10                   1                  16 \n",
            "    Intimacy issues Sexual compulsivity         Self-esteem  Transgender issues \n",
            "                  2                   6                   4                   1 \n",
            "          Isolation              Stress      Sleep problems Vocational problems \n",
            "                  2                   3                   2                   2 \n",
            "      Anger/attacks             Medical    Eating disorders             Bipolar \n",
            "                  1                   1                   1                   5 \n",
            "    Substance abuse         HIV+ issues      Self-criticism               Abuse \n",
            "                  5                   6                   1                   1 \n",
            "               <NA> \n",
            "                  4 \n"
          ]
        },
        {
          "output_type": "display_data",
          "data": {
            "text/plain": [
              "plot without title"
            ],
            "image/png": "[encoded data removed]"
          },
          "metadata": {
            "image/png": {
              "width": 420,
              "height": 420
            }
          }
        }
      ]
    },
    {
      "cell_type": "code",
      "source": [
        "# Load the data\n",
        "mydata <- read.csv(\"LGBTData.csv\")\n",
        "\n",
        "# Replace missing/not applicable codes with NA\n",
        "mydata[mydata == 999] <- NA\n",
        "mydata[mydata == 888] <- NA\n",
        "\n",
        "# Convert HIVSTAT and DEP to factors with proper labels\n",
        "mydata$HIVSTAT <- factor(mydata$HIVSTAT, levels = c(0, 1, 2), labels = c(\"Negative\", \"Positive\", \"Unknown\"))\n",
        "mydata$DEP <- factor(mydata$DEP, levels = c(0, 1, 2, 3), labels = c(\"None\", \"Mild\", \"Moderate\", \"Severe\"))\n",
        "\n",
        "# Check the raw data to confirm values are present\n",
        "print(\"HIVSTAT counts:\")\n",
        "table(mydata$HIVSTAT, useNA = \"ifany\")\n",
        "print(\"DEP counts:\")\n",
        "table(mydata$DEP, useNA = \"ifany\")\n",
        "\n",
        "# Create the contingency table\n",
        "hiv_dep_table <- table(mydata$HIVSTAT, mydata$DEP)\n",
        "print(\"Contingency table:\")\n",
        "print(hiv_dep_table)\n",
        "\n",
        "# Run chi-square test if table has positive entries\n",
        "if (sum(hiv_dep_table) > 0) {\n",
        "  chisq_result <- chisq.test(hiv_dep_table)\n",
        "  print(chisq_result)\n",
        "} else {\n",
        "  print(\"Table contains no positive entries; chi-square test cannot be performed.\")\n",
        "}\n",
        "\n",
        "# Load ggplot2 for visualization\n",
        "if (!require(\"ggplot2\")) install.packages(\"ggplot2\")\n",
        "library(ggplot2)\n",
        "\n",
        "# Bar plot\n",
        "ggplot(mydata, aes(x = HIVSTAT, fill = DEP)) +\n",
        "  geom_bar(position = \"dodge\") +\n",
        "  labs(title = \"HIV Status vs. Depression Severity\", x = \"HIV Status\", y = \"Count\", fill = \"Depression\") +\n",
        "  theme_minimal()"
      ],
      "metadata": {
        "colab": {
          "base_uri": "https://localhost:8080/",
          "height": 830
        },
        "id": "NuDQ7ygdK4vD",
        "outputId": "cb4153bd-d921-4bca-9e2f-e2abc7a79d9a"
      },
      "execution_count": null,
      "outputs": [
        {
          "output_type": "stream",
          "name": "stdout",
          "text": [
            "[1] \"HIVSTAT counts:\"\n"
          ]
        },
        {
          "output_type": "display_data",
          "data": {
            "text/plain": [
              "\n",
              "Negative Positive  Unknown \n",
              "      40       56       52 "
            ]
          },
          "metadata": {}
        },
        {
          "output_type": "stream",
          "name": "stdout",
          "text": [
            "[1] \"DEP counts:\"\n"
          ]
        },
        {
          "output_type": "display_data",
          "data": {
            "text/plain": [
              "\n",
              "    None     Mild Moderate   Severe \n",
              "      11       34       79       24 "
            ]
          },
          "metadata": {}
        },
        {
          "output_type": "stream",
          "name": "stdout",
          "text": [
            "[1] \"Contingency table:\"\n",
            "          \n",
            "           None Mild Moderate Severe\n",
            "  Negative    4    7       18     11\n",
            "  Positive    3   13       34      6\n",
            "  Unknown     4   14       27      7\n"
          ]
        },
        {
          "output_type": "stream",
          "name": "stderr",
          "text": [
            "Warning message in chisq.test(hiv_dep_table):\n",
            "“Chi-squared approximation may be incorrect”\n"
          ]
        },
        {
          "output_type": "stream",
          "name": "stdout",
          "text": [
            "\n",
            "\tPearson's Chi-squared test\n",
            "\n",
            "data:  hiv_dep_table\n",
            "X-squared = 7.1008, df = 6, p-value = 0.3116\n",
            "\n"
          ]
        },
        {
          "output_type": "display_data",
          "data": {
            "text/plain": [
              "plot without title"
            ],
            "image/png": "[encoded data removed]"
          },
          "metadata": {
            "image/png": {
              "width": 420,
              "height": 420
            }
          }
        }
      ]
    },
    {
      "cell_type": "code",
      "source": [
        "# Load the data\n",
        "mydata <- read.csv(\"LGBTData.csv\")\n",
        "\n",
        "# Replace missing/not applicable codes with NA\n",
        "mydata[mydata == 999] <- NA\n",
        "mydata[mydata == 888] <- NA\n",
        "\n",
        "# Convert PHYABUSE and DRUGEVER to factors with labels\n",
        "mydata$PHYABUSE <- factor(mydata$PHYABUSE, levels = c(0, 1), labels = c(\"No\", \"Yes\"))\n",
        "mydata$DRUGEVER <- factor(mydata$DRUGEVER, levels = c(0, 1), labels = c(\"No\", \"Yes\"))\n",
        "\n",
        "# Check individual variable counts\n",
        "print(\"Physical Abuse History Counts:\")\n",
        "table(mydata$PHYABUSE, useNA = \"ifany\")\n",
        "print(\"Substance Use History Counts:\")\n",
        "table(mydata$DRUGEVER, useNA = \"ifany\")\n",
        "\n",
        "# Create contingency table\n",
        "phy_drug_table <- table(mydata$PHYABUSE, mydata$DRUGEVER)\n",
        "print(\"Contingency Table (Physical Abuse vs. Drug Use):\")\n",
        "print(phy_drug_table)\n",
        "\n",
        "# Perform chi-square test\n",
        "chisq_result <- chisq.test(phy_drug_table)\n",
        "print(\"Chi-Square Test Result:\")\n",
        "print(chisq_result)\n",
        "\n",
        "# Calculate proportions for interpretation\n",
        "prop_table <- prop.table(phy_drug_table, 1)  # Row proportions (by PHYABUSE)\n",
        "print(\"Proportions (by Physical Abuse History):\")\n",
        "print(round(prop_table, 3))\n",
        "\n",
        "# Load ggplot2 and dplyr for visualization and data manipulation\n",
        "if (!require(\"ggplot2\")) install.packages(\"ggplot2\")\n",
        "if (!require(\"dplyr\")) install.packages(\"dplyr\")\n",
        "library(ggplot2)\n",
        "library(dplyr)\n",
        "\n",
        "# Create a data frame with percentages for plotting\n",
        "phy_drug_percent <- mydata %>%\n",
        "  group_by(PHYABUSE, DRUGEVER) %>%\n",
        "  summarise(count = n()) %>%\n",
        "  group_by(PHYABUSE) %>%\n",
        "  mutate(percentage = count / sum(count) * 100) %>%\n",
        "  ungroup()\n",
        "\n",
        "# Bar plot with percentages (dodged)\n",
        "ggplot(phy_drug_percent, aes(x = PHYABUSE, y = percentage, fill = DRUGEVER)) +\n",
        "  geom_bar(stat = \"identity\", position = \"dodge\") +\n",
        "  labs(title = \"History of Physical Abuse vs. Substance Use\",\n",
        "       x = \"History of Physical Abuse\",\n",
        "       y = \"Percentage (%)\",\n",
        "       fill = \"Substance Use History\") +\n",
        "  theme_minimal() +\n",
        "  scale_y_continuous(labels = scales::percent_format(scale = 1))  # Format y-axis as percentages"
      ],
      "metadata": {
        "id": "dsut6qigPuJC",
        "outputId": "73ee46cb-9308-4888-a464-222c8b0d6192",
        "colab": {
          "base_uri": "https://localhost:8080/",
          "height": 919
        }
      },
      "execution_count": null,
      "outputs": [
        {
          "output_type": "stream",
          "name": "stdout",
          "text": [
            "[1] \"Physical Abuse History Counts:\"\n"
          ]
        },
        {
          "output_type": "display_data",
          "data": {
            "text/plain": [
              "\n",
              " No Yes \n",
              "102  46 "
            ]
          },
          "metadata": {}
        },
        {
          "output_type": "stream",
          "name": "stdout",
          "text": [
            "[1] \"Substance Use History Counts:\"\n"
          ]
        },
        {
          "output_type": "display_data",
          "data": {
            "text/plain": [
              "\n",
              " No Yes \n",
              " 77  71 "
            ]
          },
          "metadata": {}
        },
        {
          "output_type": "stream",
          "name": "stdout",
          "text": [
            "[1] \"Contingency Table (Physical Abuse vs. Drug Use):\"\n",
            "     \n",
            "      No Yes\n",
            "  No  59  43\n",
            "  Yes 18  28\n",
            "[1] \"Chi-Square Test Result:\"\n",
            "\n",
            "\tPearson's Chi-squared test with Yates' continuity correction\n",
            "\n",
            "data:  phy_drug_table\n",
            "X-squared = 3.7296, df = 1, p-value = 0.05345\n",
            "\n",
            "[1] \"Proportions (by Physical Abuse History):\"\n",
            "     \n",
            "         No   Yes\n",
            "  No  0.578 0.422\n",
            "  Yes 0.391 0.609\n"
          ]
        },
        {
          "output_type": "stream",
          "name": "stderr",
          "text": [
            "\u001b[1m\u001b[22m`summarise()` has grouped output by 'PHYABUSE'. You can override using the\n",
            "`.groups` argument.\n"
          ]
        },
        {
          "output_type": "display_data",
          "data": {
            "text/plain": [
              "plot without title"
            ],
            "image/png": "[encoded data removed]"
          },
          "metadata": {
            "image/png": {
              "width": 420,
              "height": 420
            }
          }
        }
      ]
    }
  ]
}
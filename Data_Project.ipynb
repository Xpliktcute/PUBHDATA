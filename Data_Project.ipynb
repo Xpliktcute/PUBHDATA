{
  "nbformat": 4,
  "nbformat_minor": 0,
  "metadata": {
    "colab": {
      "provenance": [],
      "authorship_tag": "ABX9TyMuIaLpI+ZtHueRVP5i0Toj",
      "include_colab_link": true
    },
    "kernelspec": {
      "name": "ir",
      "display_name": "R"
    },
    "language_info": {
      "name": "R"
    }
  },
  "cells": [
    {
      "cell_type": "markdown",
      "metadata": {
        "id": "view-in-github",
        "colab_type": "text"
      },
      "source": [
        "<a href=\"https://colab.research.google.com/github/Xpliktcute/PUBHDATA/blob/main/Data_Project.ipynb\" target=\"_parent\"><img src=\"https://colab.research.google.com/assets/colab-badge.svg\" alt=\"Open In Colab\"/></a>"
      ]
    },
    {
      "cell_type": "code",
      "execution_count": 1,
      "metadata": {
        "colab": {
          "base_uri": "https://localhost:8080/"
        },
        "id": "Hv43ZXR0JVOQ",
        "outputId": "26434aff-314a-4251-ba12-be8363c5336a"
      },
      "outputs": [
        {
          "output_type": "stream",
          "name": "stderr",
          "text": [
            "Loading required package: haven\n",
            "\n",
            "Loading required package: readr\n",
            "\n"
          ]
        }
      ],
      "source": [
        "# Install and load necessary libraries\n",
        "if (!require(\"haven\")) install.packages(\"haven\")\n",
        "if (!require(\"readr\")) install.packages(\"readr\")"
      ]
    },
    {
      "cell_type": "code",
      "source": [
        "library(haven)\n",
        "library(readr)"
      ],
      "metadata": {
        "id": "xttS14JzKX6b"
      },
      "execution_count": 2,
      "outputs": []
    },
    {
      "cell_type": "code",
      "source": [
        "data <- read_sav(\"22121-0001-Data.sav\");\n",
        "write_csv(data, \"LGBTData\")"
      ],
      "metadata": {
        "id": "hpgrmUt7KcPe"
      },
      "execution_count": 3,
      "outputs": []
    },
    {
      "cell_type": "code",
      "source": [
        "# Install the readr package if it's not already installed\n",
        "if (!require(\"readr\")) install.packages(\"readr\")\n",
        "\n",
        "# Load the readr library\n",
        "library(readr)\n",
        "\n",
        "# Read the CSV file into a data frame\n",
        "data <- read_csv(\"LGBTData\")\n",
        "head(data)\n",
        "dim(data)"
      ],
      "metadata": {
        "colab": {
          "base_uri": "https://localhost:8080/",
          "height": 466
        },
        "id": "uJWBriL6LYvj",
        "outputId": "237190e6-b6d3-4ef8-967d-603920bc5081"
      },
      "execution_count": 4,
      "outputs": [
        {
          "output_type": "stream",
          "name": "stderr",
          "text": [
            "\u001b[1mRows: \u001b[22m\u001b[34m148\u001b[39m \u001b[1mColumns: \u001b[22m\u001b[34m117\u001b[39m\n",
            "\u001b[36m──\u001b[39m \u001b[1mColumn specification\u001b[22m \u001b[36m────────────────────────────────────────────────────────\u001b[39m\n",
            "\u001b[1mDelimiter:\u001b[22m \",\"\n",
            "\u001b[31mchr\u001b[39m   (9): MED1SPECIFY, MED2SPECIFY, MED3SPECIFY, MED4SPECIFY, MED5SPECIFY, ...\n",
            "\u001b[32mdbl\u001b[39m (108): ID, INTAKET, ZIPCODE, INSURANC, FEE, GENDER, RACE, AGE, SEXORIEN,...\n",
            "\n",
            "\u001b[36mℹ\u001b[39m Use `spec()` to retrieve the full column specification for this data.\n",
            "\u001b[36mℹ\u001b[39m Specify the column types or set `show_col_types = FALSE` to quiet this message.\n"
          ]
        },
        {
          "output_type": "display_data",
          "data": {
            "text/html": [
              "<table class=\"dataframe\">\n",
              "<caption>A tibble: 6 × 117</caption>\n",
              "<thead>\n",
              "\t<tr><th scope=col>ID</th><th scope=col>INTAKET</th><th scope=col>ZIPCODE</th><th scope=col>INSURANC</th><th scope=col>FEE</th><th scope=col>GENDER</th><th scope=col>RACE</th><th scope=col>AGE</th><th scope=col>SEXORIEN</th><th scope=col>STATEGRANT</th><th scope=col>⋯</th><th scope=col>AXISIII3</th><th scope=col>AXISIII4</th><th scope=col>AXISIV1</th><th scope=col>AXISIV2</th><th scope=col>AXISIV3</th><th scope=col>AXISV</th><th scope=col>TXPLAN1</th><th scope=col>TXPLAN2</th><th scope=col>TXPLAN3</th><th scope=col>TXPLAN4</th></tr>\n",
              "\t<tr><th scope=col>&lt;dbl&gt;</th><th scope=col>&lt;dbl&gt;</th><th scope=col>&lt;dbl&gt;</th><th scope=col>&lt;dbl&gt;</th><th scope=col>&lt;dbl&gt;</th><th scope=col>&lt;dbl&gt;</th><th scope=col>&lt;dbl&gt;</th><th scope=col>&lt;dbl&gt;</th><th scope=col>&lt;dbl&gt;</th><th scope=col>&lt;dbl&gt;</th><th scope=col>⋯</th><th scope=col>&lt;dbl&gt;</th><th scope=col>&lt;dbl&gt;</th><th scope=col>&lt;dbl&gt;</th><th scope=col>&lt;dbl&gt;</th><th scope=col>&lt;dbl&gt;</th><th scope=col>&lt;dbl&gt;</th><th scope=col>&lt;dbl&gt;</th><th scope=col>&lt;dbl&gt;</th><th scope=col>&lt;dbl&gt;</th><th scope=col>&lt;dbl&gt;</th></tr>\n",
              "</thead>\n",
              "<tbody>\n",
              "\t<tr><td>131</td><td> 1</td><td>21</td><td>1</td><td>  0</td><td>1</td><td>1</td><td>41</td><td>1</td><td> 1</td><td>⋯</td><td>1</td><td>1</td><td>11</td><td> 1</td><td>1</td><td>68</td><td>NA</td><td>888</td><td>888</td><td>888</td></tr>\n",
              "\t<tr><td>221</td><td> 5</td><td>38</td><td>1</td><td> 80</td><td>1</td><td>1</td><td>26</td><td>1</td><td> 0</td><td>⋯</td><td>1</td><td>1</td><td> 6</td><td>14</td><td>1</td><td>50</td><td>NA</td><td>888</td><td>888</td><td>888</td></tr>\n",
              "\t<tr><td>231</td><td> 7</td><td>11</td><td>1</td><td>  0</td><td>1</td><td>1</td><td>34</td><td>1</td><td> 0</td><td>⋯</td><td>1</td><td>1</td><td> 5</td><td> 1</td><td>1</td><td>65</td><td>19</td><td>888</td><td>888</td><td>888</td></tr>\n",
              "\t<tr><td>135</td><td>11</td><td>57</td><td>1</td><td>130</td><td>1</td><td>1</td><td>35</td><td>1</td><td> 0</td><td>⋯</td><td>1</td><td>1</td><td> 1</td><td> 1</td><td>1</td><td>80</td><td>16</td><td>888</td><td>888</td><td>888</td></tr>\n",
              "\t<tr><td>111</td><td> 3</td><td>42</td><td>1</td><td> 80</td><td>1</td><td>1</td><td>28</td><td>1</td><td>NA</td><td>⋯</td><td>1</td><td>1</td><td> 4</td><td> 1</td><td>1</td><td>51</td><td>12</td><td>888</td><td>888</td><td>888</td></tr>\n",
              "\t<tr><td>142</td><td> 2</td><td>25</td><td>1</td><td> 80</td><td>1</td><td>1</td><td>31</td><td>1</td><td> 1</td><td>⋯</td><td>1</td><td>1</td><td>15</td><td> 1</td><td>1</td><td>53</td><td>12</td><td>888</td><td>888</td><td>888</td></tr>\n",
              "</tbody>\n",
              "</table>\n"
            ],
            "text/markdown": "\nA tibble: 6 × 117\n\n| ID &lt;dbl&gt; | INTAKET &lt;dbl&gt; | ZIPCODE &lt;dbl&gt; | INSURANC &lt;dbl&gt; | FEE &lt;dbl&gt; | GENDER &lt;dbl&gt; | RACE &lt;dbl&gt; | AGE &lt;dbl&gt; | SEXORIEN &lt;dbl&gt; | STATEGRANT &lt;dbl&gt; | ⋯ ⋯ | AXISIII3 &lt;dbl&gt; | AXISIII4 &lt;dbl&gt; | AXISIV1 &lt;dbl&gt; | AXISIV2 &lt;dbl&gt; | AXISIV3 &lt;dbl&gt; | AXISV &lt;dbl&gt; | TXPLAN1 &lt;dbl&gt; | TXPLAN2 &lt;dbl&gt; | TXPLAN3 &lt;dbl&gt; | TXPLAN4 &lt;dbl&gt; |\n|---|---|---|---|---|---|---|---|---|---|---|---|---|---|---|---|---|---|---|---|---|\n| 131 |  1 | 21 | 1 |   0 | 1 | 1 | 41 | 1 |  1 | ⋯ | 1 | 1 | 11 |  1 | 1 | 68 | NA | 888 | 888 | 888 |\n| 221 |  5 | 38 | 1 |  80 | 1 | 1 | 26 | 1 |  0 | ⋯ | 1 | 1 |  6 | 14 | 1 | 50 | NA | 888 | 888 | 888 |\n| 231 |  7 | 11 | 1 |   0 | 1 | 1 | 34 | 1 |  0 | ⋯ | 1 | 1 |  5 |  1 | 1 | 65 | 19 | 888 | 888 | 888 |\n| 135 | 11 | 57 | 1 | 130 | 1 | 1 | 35 | 1 |  0 | ⋯ | 1 | 1 |  1 |  1 | 1 | 80 | 16 | 888 | 888 | 888 |\n| 111 |  3 | 42 | 1 |  80 | 1 | 1 | 28 | 1 | NA | ⋯ | 1 | 1 |  4 |  1 | 1 | 51 | 12 | 888 | 888 | 888 |\n| 142 |  2 | 25 | 1 |  80 | 1 | 1 | 31 | 1 |  1 | ⋯ | 1 | 1 | 15 |  1 | 1 | 53 | 12 | 888 | 888 | 888 |\n\n",
            "text/latex": "A tibble: 6 × 117\n\\begin{tabular}{lllllllllllllllllllll}\n ID & INTAKET & ZIPCODE & INSURANC & FEE & GENDER & RACE & AGE & SEXORIEN & STATEGRANT & ⋯ & AXISIII3 & AXISIII4 & AXISIV1 & AXISIV2 & AXISIV3 & AXISV & TXPLAN1 & TXPLAN2 & TXPLAN3 & TXPLAN4\\\\\n <dbl> & <dbl> & <dbl> & <dbl> & <dbl> & <dbl> & <dbl> & <dbl> & <dbl> & <dbl> & ⋯ & <dbl> & <dbl> & <dbl> & <dbl> & <dbl> & <dbl> & <dbl> & <dbl> & <dbl> & <dbl>\\\\\n\\hline\n\t 131 &  1 & 21 & 1 &   0 & 1 & 1 & 41 & 1 &  1 & ⋯ & 1 & 1 & 11 &  1 & 1 & 68 & NA & 888 & 888 & 888\\\\\n\t 221 &  5 & 38 & 1 &  80 & 1 & 1 & 26 & 1 &  0 & ⋯ & 1 & 1 &  6 & 14 & 1 & 50 & NA & 888 & 888 & 888\\\\\n\t 231 &  7 & 11 & 1 &   0 & 1 & 1 & 34 & 1 &  0 & ⋯ & 1 & 1 &  5 &  1 & 1 & 65 & 19 & 888 & 888 & 888\\\\\n\t 135 & 11 & 57 & 1 & 130 & 1 & 1 & 35 & 1 &  0 & ⋯ & 1 & 1 &  1 &  1 & 1 & 80 & 16 & 888 & 888 & 888\\\\\n\t 111 &  3 & 42 & 1 &  80 & 1 & 1 & 28 & 1 & NA & ⋯ & 1 & 1 &  4 &  1 & 1 & 51 & 12 & 888 & 888 & 888\\\\\n\t 142 &  2 & 25 & 1 &  80 & 1 & 1 & 31 & 1 &  1 & ⋯ & 1 & 1 & 15 &  1 & 1 & 53 & 12 & 888 & 888 & 888\\\\\n\\end{tabular}\n",
            "text/plain": [
              "  ID  INTAKET ZIPCODE INSURANC FEE GENDER RACE AGE SEXORIEN STATEGRANT ⋯\n",
              "1 131  1      21      1          0 1      1    41  1         1         ⋯\n",
              "2 221  5      38      1         80 1      1    26  1         0         ⋯\n",
              "3 231  7      11      1          0 1      1    34  1         0         ⋯\n",
              "4 135 11      57      1        130 1      1    35  1         0         ⋯\n",
              "5 111  3      42      1         80 1      1    28  1        NA         ⋯\n",
              "6 142  2      25      1         80 1      1    31  1         1         ⋯\n",
              "  AXISIII3 AXISIII4 AXISIV1 AXISIV2 AXISIV3 AXISV TXPLAN1 TXPLAN2 TXPLAN3\n",
              "1 1        1        11       1      1       68    NA      888     888    \n",
              "2 1        1         6      14      1       50    NA      888     888    \n",
              "3 1        1         5       1      1       65    19      888     888    \n",
              "4 1        1         1       1      1       80    16      888     888    \n",
              "5 1        1         4       1      1       51    12      888     888    \n",
              "6 1        1        15       1      1       53    12      888     888    \n",
              "  TXPLAN4\n",
              "1 888    \n",
              "2 888    \n",
              "3 888    \n",
              "4 888    \n",
              "5 888    \n",
              "6 888    "
            ]
          },
          "metadata": {}
        },
        {
          "output_type": "display_data",
          "data": {
            "text/html": [
              "<style>\n",
              ".list-inline {list-style: none; margin:0; padding: 0}\n",
              ".list-inline>li {display: inline-block}\n",
              ".list-inline>li:not(:last-child)::after {content: \"\\00b7\"; padding: 0 .5ex}\n",
              "</style>\n",
              "<ol class=list-inline><li>148</li><li>117</li></ol>\n"
            ],
            "text/markdown": "1. 148\n2. 117\n\n\n",
            "text/latex": "\\begin{enumerate*}\n\\item 148\n\\item 117\n\\end{enumerate*}\n",
            "text/plain": [
              "[1] 148 117"
            ]
          },
          "metadata": {}
        }
      ]
    }
  ]
}